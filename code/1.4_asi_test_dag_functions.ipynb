{
 "cells": [
  {
   "cell_type": "code",
   "execution_count": 6,
   "metadata": {},
   "outputs": [],
   "source": [
    "import os\n",
    "import sys\n",
    "sys.path.insert(0, os.path.abspath(\"..\"))\n",
    "from DAG_functions import extractData, transformData, loadData, deleteFiles\n",
    "import config"
   ]
  },
  {
   "cell_type": "code",
   "execution_count": 3,
   "metadata": {},
   "outputs": [],
   "source": [
    "\n",
    "\n",
    "dir_name = config.dir_name\n",
    "\n",
    "device_df, sensor_df, alarm_df = extractData(dir_name)\n",
    "\n"
   ]
  },
  {
   "cell_type": "code",
   "execution_count": 4,
   "metadata": {},
   "outputs": [],
   "source": [
    "device_df, sensor_df, alarm_df = transformData(device_df, sensor_df, alarm_df)\n",
    "\n"
   ]
  },
  {
   "cell_type": "code",
   "execution_count": 7,
   "metadata": {},
   "outputs": [
    {
     "ename": "TypeError",
     "evalue": "loadData() missing 2 required positional arguments: 'sensor_df' and 'alarm_df'",
     "output_type": "error",
     "traceback": [
      "\u001b[1;31m---------------------------------------------------------------------------\u001b[0m",
      "\u001b[1;31mTypeError\u001b[0m                                 Traceback (most recent call last)",
      "\u001b[1;32mc:\\Users\\cavefish1\\Unitronics_Dashboard-1\\code\\1.4_asi_test_dag_functions.ipynb Cell 4\u001b[0m in \u001b[0;36m<cell line: 1>\u001b[1;34m()\u001b[0m\n\u001b[1;32m----> <a href='vscode-notebook-cell:/c%3A/Users/cavefish1/Unitronics_Dashboard-1/code/1.4_asi_test_dag_functions.ipynb#W4sZmlsZQ%3D%3D?line=0'>1</a>\u001b[0m loadData(alarm_df)\n",
      "\u001b[1;31mTypeError\u001b[0m: loadData() missing 2 required positional arguments: 'sensor_df' and 'alarm_df'"
     ]
    }
   ],
   "source": [
    "loadData(alarm_df)\n",
    "\n"
   ]
  },
  {
   "cell_type": "code",
   "execution_count": null,
   "metadata": {},
   "outputs": [],
   "source": [
    "deleteFiles(dir_name)"
   ]
  },
  {
   "cell_type": "code",
   "execution_count": null,
   "metadata": {},
   "outputs": [],
   "source": []
  }
 ],
 "metadata": {
  "kernelspec": {
   "display_name": "Python 3.10.6 64-bit",
   "language": "python",
   "name": "python3"
  },
  "language_info": {
   "codemirror_mode": {
    "name": "ipython",
    "version": 3
   },
   "file_extension": ".py",
   "mimetype": "text/x-python",
   "name": "python",
   "nbconvert_exporter": "python",
   "pygments_lexer": "ipython3",
   "version": "3.10.6"
  },
  "orig_nbformat": 4,
  "vscode": {
   "interpreter": {
    "hash": "851e13f943d6b07e14964e7e051bb23fbac3c8a6425c35fbc631f1f0a67e1d15"
   }
  }
 },
 "nbformat": 4,
 "nbformat_minor": 2
}
